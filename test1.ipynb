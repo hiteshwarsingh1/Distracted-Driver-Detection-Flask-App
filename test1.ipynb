{
 "cells": [
  {
   "cell_type": "code",
   "execution_count": 1,
   "metadata": {},
   "outputs": [
    {
     "ename": "ModuleNotFoundError",
     "evalue": "No module named 'skimage'",
     "output_type": "error",
     "traceback": [
      "\u001b[1;31m---------------------------------------------------------------------------\u001b[0m",
      "\u001b[1;31mModuleNotFoundError\u001b[0m                       Traceback (most recent call last)",
      "\u001b[1;32md:\\Projects\\Distracted Driver\\test1.ipynb Cell 1\u001b[0m in \u001b[0;36m<cell line: 3>\u001b[1;34m()\u001b[0m\n\u001b[0;32m      <a href='vscode-notebook-cell:/d%3A/Projects/Distracted%20Driver/test1.ipynb#W0sZmlsZQ%3D%3D?line=0'>1</a>\u001b[0m \u001b[39mimport\u001b[39;00m \u001b[39mnumpy\u001b[39;00m \u001b[39mas\u001b[39;00m \u001b[39mnp\u001b[39;00m\n\u001b[0;32m      <a href='vscode-notebook-cell:/d%3A/Projects/Distracted%20Driver/test1.ipynb#W0sZmlsZQ%3D%3D?line=1'>2</a>\u001b[0m \u001b[39mimport\u001b[39;00m \u001b[39mpickle\u001b[39;00m\n\u001b[1;32m----> <a href='vscode-notebook-cell:/d%3A/Projects/Distracted%20Driver/test1.ipynb#W0sZmlsZQ%3D%3D?line=2'>3</a>\u001b[0m \u001b[39mfrom\u001b[39;00m \u001b[39mskimage\u001b[39;00m\u001b[39m.\u001b[39;00m\u001b[39mfeature\u001b[39;00m \u001b[39mimport\u001b[39;00m hog\n\u001b[0;32m      <a href='vscode-notebook-cell:/d%3A/Projects/Distracted%20Driver/test1.ipynb#W0sZmlsZQ%3D%3D?line=3'>4</a>\u001b[0m \u001b[39mfrom\u001b[39;00m \u001b[39mskimage\u001b[39;00m\u001b[39m.\u001b[39;00m\u001b[39mio\u001b[39;00m \u001b[39mimport\u001b[39;00m imread\n\u001b[0;32m      <a href='vscode-notebook-cell:/d%3A/Projects/Distracted%20Driver/test1.ipynb#W0sZmlsZQ%3D%3D?line=4'>5</a>\u001b[0m \u001b[39mfrom\u001b[39;00m \u001b[39mskimage\u001b[39;00m\u001b[39m.\u001b[39;00m\u001b[39mtransform\u001b[39;00m \u001b[39mimport\u001b[39;00m resize\n",
      "\u001b[1;31mModuleNotFoundError\u001b[0m: No module named 'skimage'"
     ]
    }
   ],
   "source": [
    "import numpy as np\n",
    "import pickle\n",
    "from skimage.feature import hog\n",
    "from skimage.io import imread\n",
    "from skimage.transform import resize\n",
    "import cv2\n",
    "import matplotlib.pyplot as plt"
   ]
  },
  {
   "cell_type": "code",
   "execution_count": null,
   "metadata": {},
   "outputs": [],
   "source": []
  },
  {
   "cell_type": "code",
   "execution_count": null,
   "metadata": {},
   "outputs": [],
   "source": [
    "def get_res(val):\n",
    "    # if val==0:\n",
    "        return \"Safe Driving\"\n",
    "    else:\n",
    "        return \"Driver is Distracted\""
   ]
  },
  {
   "cell_type": "code",
   "execution_count": 6,
   "metadata": {},
   "outputs": [
    {
     "data": {
      "text/plain": [
       "14"
      ]
     },
     "execution_count": 6,
     "metadata": {},
     "output_type": "execute_result"
    }
   ],
   "source": [
    "st = \"LooselyCoupled\"\n",
    "len(st)"
   ]
  },
  {
   "cell_type": "code",
   "execution_count": null,
   "metadata": {},
   "outputs": [],
   "source": [
    "from skimage import data, exposure\n",
    "def get_hog(image, name='hog', save=False):\n",
    "    fd, hog_image = hog(image, orientations=8, pixels_per_cell=(16, 16),\n",
    "                    cells_per_block=(1, 1), visualize=True, channel_axis=-1)\n",
    "\n",
    "    fig, (ax1, ax2) = plt.subplots(1, 2, figsize=(8, 4), sharex=True, sharey=True)\n",
    "\n",
    "    ax1.axis('off')\n",
    "    ax1.imshow(image, cmap=plt.cm.gray)\n",
    "    ax1.set_title('Input image')\n",
    "\n",
    "    # Rescale histogram for better display\n",
    "    hog_image_rescaled = exposure.rescale_intensity(hog_image, in_range=(0, 10))\n",
    "\n",
    "    ax2.axis('off')\n",
    "    ax2.imshow(hog_image_rescaled, cmap=plt.cm.gray)\n",
    "    ax2.set_title('Histogram of Oriented Gradients')\n",
    "    plt.show()\n",
    "    result = np.array(hog_image)\n",
    "    return result"
   ]
  },
  {
   "cell_type": "code",
   "execution_count": null,
   "metadata": {},
   "outputs": [],
   "source": [
    "path = \"D:/Projects/Distracted Driver/testing/camera.jpg\"\n",
    "print(detect(path))"
   ]
  },
  {
   "cell_type": "code",
   "execution_count": null,
   "metadata": {},
   "outputs": [],
   "source": [
    "def detect(path):\n",
    "    print(\"1\")\n",
    "    Xv=[]\n",
    "    img = cv2.imread(path)\n",
    "    new_img = cv2.resize(img, (64, 128))\n",
    "    Xv.append(new_img)\n",
    "    Xv=np.array(Xv)\n",
    "\n",
    "    print(\"2\")\n",
    "    print(Xv.shape)\n",
    "    hog_input = get_hog(Xv, name='hog_train', save=True)\n",
    "\n",
    "    print(\"3\")\n",
    "\n",
    "    pca_reload = pickle.load(open(\"pca_dump.pkl\",'rb'))\n",
    "    norm_reload = pickle.load(open(\"norm_dump.pkl\",'rb'))\n",
    "    model = pickle.load(open(\"model.pkl\",'rb'))\n",
    "\n",
    "    print(\"4\")\n",
    "\n",
    "    norm_hog_input = norm_reload.transform(hog_input)\n",
    "    pca_norm_hog_train = pca_reload.transform(norm_hog_input)\n",
    "    driver_pred = model.predict(pca_norm_hog_train)\n",
    "\n",
    "    print(\"5\")\n",
    "\n",
    "    res = get_res(driver_pred[0])\n",
    "\n",
    "    return res\n",
    "\n"
   ]
  }
 ],
 "metadata": {
  "kernelspec": {
   "display_name": "Python 3",
   "language": "python",
   "name": "python3"
  },
  "language_info": {
   "codemirror_mode": {
    "name": "ipython",
    "version": 3
   },
   "file_extension": ".py",
   "mimetype": "text/x-python",
   "name": "python",
   "nbconvert_exporter": "python",
   "pygments_lexer": "ipython3",
   "version": "3.9.8 (tags/v3.9.8:bb3fdcf, Nov  5 2021, 20:48:33) [MSC v.1929 64 bit (AMD64)]"
  },
  "orig_nbformat": 4,
  "vscode": {
   "interpreter": {
    "hash": "3f0a9274e75c54eb3e70f4e922c22401024819649077c3b94c640e414f9dfbbe"
   }
  }
 },
 "nbformat": 4,
 "nbformat_minor": 2
}
